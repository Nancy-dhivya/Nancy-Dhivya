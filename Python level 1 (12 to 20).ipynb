{
 "cells": [
  {
   "cell_type": "code",
   "execution_count": null,
   "id": "1eb2f7f4",
   "metadata": {},
   "outputs": [
    {
     "name": "stdout",
     "output_type": "stream",
     "text": [
      "Enter a string:Nancy@312+-*\n",
      "@312+*\n"
     ]
    }
   ],
   "source": [
    "#remove characters from a string\n",
    "s=input(\"Enter a string:\")\n",
    "import re\n",
    "s1=re.sub(\"[^0-9!@#$%^&*()_+]\",\"\",s)\n",
    "print (s1)\n",
    "r=input(\"Enter a string:\")\n",
    "r1=re.sub(\"[^a-z]\",\"\",r)\n",
    "print(r1)"
   ]
  },
  {
   "cell_type": "code",
   "execution_count": 2,
   "id": "ebe71d33",
   "metadata": {},
   "outputs": [
    {
     "name": "stdout",
     "output_type": "stream",
     "text": [
      "\n",
      "Enter the number of rows:3\n",
      "1  \n",
      "2  2  \n",
      "3  3  3  \n"
     ]
    }
   ],
   "source": [
    "#numbers pattern printing\n",
    "n=int(input(\"\\nEnter the number of rows:\"))\n",
    "for i in range(1,n+1):\n",
    "    for j in range(0,i):\n",
    "        print(i,end=\"  \")\n",
    "    print(\"\\r\")\n"
   ]
  },
  {
   "cell_type": "code",
   "execution_count": 1,
   "id": "6a13dd6f",
   "metadata": {},
   "outputs": [
    {
     "name": "stdout",
     "output_type": "stream",
     "text": [
      "5\n",
      "55\n",
      "70\n",
      "15\n"
     ]
    }
   ],
   "source": [
    "#divisible by 5\n",
    "list=[1,2,5,8,52,55,70,15]\n",
    "for i in list:\n",
    "    if(i%5==0):\n",
    "        print(i)"
   ]
  },
  {
   "cell_type": "code",
   "execution_count": 3,
   "id": "cff4625e",
   "metadata": {},
   "outputs": [
    {
     "name": "stdout",
     "output_type": "stream",
     "text": [
      "Enter a number:123321\n",
      "The number is a palindrome number\n"
     ]
    }
   ],
   "source": [
    "#check for palindrome\n",
    "n=int(input(\"Enter a number:\"))\n",
    "temp=n\n",
    "rev=0\n",
    "while(n>0):\n",
    "    d=n%10\n",
    "    rev=rev*10+d\n",
    "    n=n//10\n",
    "if(temp==rev):\n",
    "    print(\"The number is a palindrome number\")\n",
    "else:\n",
    "    print(\"The number is not a palindrome number\")\n"
   ]
  },
  {
   "cell_type": "code",
   "execution_count": 6,
   "id": "f5e30d61",
   "metadata": {},
   "outputs": [
    {
     "name": "stdout",
     "output_type": "stream",
     "text": [
      "[8, 41, 55, 22, 3, 7, 22]\n"
     ]
    }
   ],
   "source": [
    "#swap first and last element of list\n",
    "def swapfirstlast(list):\n",
    "    get=list[-1],list[0]\n",
    "    list[0],list[-1]=get\n",
    "    return list\n",
    "newlist=[22,41,55,22,3,7,8]\n",
    "print(swapfirstlast(newlist))\n"
   ]
  },
  {
   "cell_type": "code",
   "execution_count": 7,
   "id": "ec1bc261",
   "metadata": {},
   "outputs": [
    {
     "name": "stdout",
     "output_type": "stream",
     "text": [
      "Enter Position 1 want to interchange:2\n",
      "Enter Position 2 want to interchange:4\n",
      "[4, 5, 85, 47, 2584, 236541]\n",
      "[4, 47, 85, 5, 2584, 236541]\n"
     ]
    }
   ],
   "source": [
    "#swap position of two elements\n",
    "def swapPositions(list,pos1,pos2):\n",
    "    list[pos1],list[pos2]=list[pos2],list[pos1]\n",
    "    return list\n",
    "\n",
    "list=[4,5,85,47,2584,236541]\n",
    "pos1=int(input(\"Enter Position 1 want to interchange:\" ))\n",
    "pos2=int(input(\"Enter Position 2 want to interchange:\" ))\n",
    "print(list)\n",
    "print(swapPositions(list,pos1-1,pos2-1))\n"
   ]
  },
  {
   "cell_type": "code",
   "execution_count": null,
   "id": "e7c113eb",
   "metadata": {},
   "outputs": [],
   "source": []
  },
  {
   "cell_type": "code",
   "execution_count": 14,
   "id": "12d6e7fc",
   "metadata": {},
   "outputs": [
    {
     "name": "stdout",
     "output_type": "stream",
     "text": [
      "Enter number of elements in list: 5\n",
      "Enter elements: 12\n",
      "Enter elements: 23\n",
      "Enter elements: 34\n",
      "Enter elements: 45\n",
      "Enter elements: 67\n",
      "Largest element is: 67\n"
     ]
    }
   ],
   "source": [
    "#maximum elements in a list\n",
    "list1 = []\n",
    "n = int(input(\"Enter number of elements in list: \"))\n",
    "for i in range(1, n + 1):\n",
    "    element = int(input(\"Enter elements: \"))\n",
    "    list1.append(element)\n",
    "\n",
    "print(\"Largest element is:\", max(list1))\n"
   ]
  },
  {
   "cell_type": "code",
   "execution_count": 15,
   "id": "b2b80edd",
   "metadata": {},
   "outputs": [
    {
     "name": "stdout",
     "output_type": "stream",
     "text": [
      "Enter number of elements in list: 4\n",
      "Enter elements: 1\n",
      "Enter elements: 2\n",
      "Enter elements: 3\n",
      "Enter elements: 4\n",
      "Smallest element is: 1\n",
      "[1, 2, 3, 4]\n"
     ]
    }
   ],
   "source": [
    "#minimum element in a list\n",
    "list1 = []\n",
    "n = int(input(\"Enter number of elements in list: \"))\n",
    "for i in range(1, n + 1):\n",
    "    element = int(input(\"Enter elements: \"))\n",
    "    list1.append(element)\n",
    "print(\"Smallest element is:\", min(list1))\n",
    "print(list1)"
   ]
  },
  {
   "cell_type": "code",
   "execution_count": null,
   "id": "88460bce",
   "metadata": {},
   "outputs": [],
   "source": [
    "\n"
   ]
  },
  {
   "cell_type": "code",
   "execution_count": null,
   "id": "e06dfef1",
   "metadata": {},
   "outputs": [],
   "source": []
  }
 ],
 "metadata": {
  "kernelspec": {
   "display_name": "Python 3 (ipykernel)",
   "language": "python",
   "name": "python3"
  },
  "language_info": {
   "codemirror_mode": {
    "name": "ipython",
    "version": 3
   },
   "file_extension": ".py",
   "mimetype": "text/x-python",
   "name": "python",
   "nbconvert_exporter": "python",
   "pygments_lexer": "ipython3",
   "version": "3.9.12"
  }
 },
 "nbformat": 4,
 "nbformat_minor": 5
}

{
 "cells": [
  {
   "cell_type": "code",
   "execution_count": 2,
   "id": "bc0ba96d",
   "metadata": {},
   "outputs": [
    {
     "name": "stdout",
     "output_type": "stream",
     "text": [
      "nancy\n"
     ]
    }
   ],
   "source": [
    "data = {1: 'nancy'}\n",
    "print(data[1])"
   ]
  },
  {
   "cell_type": "code",
   "execution_count": 1,
   "id": "9084cf9e",
   "metadata": {},
   "outputs": [
    {
     "name": "stdout",
     "output_type": "stream",
     "text": [
      "<class 'int'>\n"
     ]
    }
   ],
   "source": [
    "a = 44\n",
    "print(type(a))"
   ]
  },
  {
   "cell_type": "code",
   "execution_count": 1,
   "id": "a419e015",
   "metadata": {},
   "outputs": [
    {
     "name": "stdout",
     "output_type": "stream",
     "text": [
      "50\n"
     ]
    }
   ],
   "source": [
    "max = 50 if 50>49 else 49\n",
    "print(max)"
   ]
  },
  {
   "cell_type": "code",
   "execution_count": 2,
   "id": "1cd4f033",
   "metadata": {},
   "outputs": [
    {
     "name": "stdout",
     "output_type": "stream",
     "text": [
      "<class 'complex'>\n"
     ]
    }
   ],
   "source": [
    "b = 1j\n",
    "print(type(b))"
   ]
  },
  {
   "cell_type": "code",
   "execution_count": 16,
   "id": "dbf66ab2",
   "metadata": {},
   "outputs": [
    {
     "name": "stdout",
     "output_type": "stream",
     "text": [
      "{2, 3, 4, 5}\n",
      "{2, 3, 4, 5, 10, 11}\n",
      "set()\n"
     ]
    }
   ],
   "source": [
    "set1 = {2,3,4,5}\n",
    "print(set1)\n",
    "set1.update([10,11])\n",
    "print(set1)\n",
    "set1.clear()\n",
    "print(set1)\n"
   ]
  },
  {
   "cell_type": "code",
   "execution_count": 8,
   "id": "abee86b5",
   "metadata": {},
   "outputs": [
    {
     "name": "stdout",
     "output_type": "stream",
     "text": [
      "nancy\n"
     ]
    }
   ],
   "source": [
    "print(\"nancy\")"
   ]
  },
  {
   "cell_type": "code",
   "execution_count": 1,
   "id": "5bc92e66",
   "metadata": {},
   "outputs": [
    {
     "name": "stdout",
     "output_type": "stream",
     "text": [
      "[1, 2, [3, 4]]\n"
     ]
    }
   ],
   "source": [
    "list = [1,2,[3,4]]\n",
    "print(list)"
   ]
  },
  {
   "cell_type": "code",
   "execution_count": 6,
   "id": "4ac894d9",
   "metadata": {},
   "outputs": [
    {
     "name": "stdout",
     "output_type": "stream",
     "text": [
      "[1, 2]\n",
      "[1, 3, 2]\n",
      "3\n",
      "2\n",
      "[1, 3, 2, 23, 34, 45]\n"
     ]
    }
   ],
   "source": [
    "list = []\n",
    "list.append(1)\n",
    "list.append(2)\n",
    "print(list)\n",
    "list.insert(1,3)\n",
    "print(list)\n",
    "print(list[1])\n",
    "print(list[-1])\n",
    "list.extend([23,34,45])\n",
    "print(list)\n"
   ]
  },
  {
   "cell_type": "code",
   "execution_count": 3,
   "id": "0739c6f4",
   "metadata": {},
   "outputs": [
    {
     "name": "stdout",
     "output_type": "stream",
     "text": [
      "[1, 4, 5, 6, 7, 8, 9]\n"
     ]
    }
   ],
   "source": [
    "list = [1,2,3,4,5,6,7,8,9]\n",
    "list.remove(3)\n",
    "list.pop(1)\n",
    "print(list)"
   ]
  },
  {
   "cell_type": "code",
   "execution_count": 10,
   "id": "4b9c3760",
   "metadata": {},
   "outputs": [
    {
     "name": "stdout",
     "output_type": "stream",
     "text": [
      "(1, 2, 3)\n"
     ]
    }
   ],
   "source": [
    "tup = (1,2,3)\n",
    "print(tup)\n"
   ]
  },
  {
   "cell_type": "code",
   "execution_count": 11,
   "id": "fc70b80c",
   "metadata": {},
   "outputs": [
    {
     "name": "stdout",
     "output_type": "stream",
     "text": [
      "<class 'bool'>\n"
     ]
    },
    {
     "ename": "NameError",
     "evalue": "name 'false' is not defined",
     "output_type": "error",
     "traceback": [
      "\u001b[1;31m---------------------------------------------------------------------------\u001b[0m",
      "\u001b[1;31mNameError\u001b[0m                                 Traceback (most recent call last)",
      "Input \u001b[1;32mIn [11]\u001b[0m, in \u001b[0;36m<cell line: 2>\u001b[1;34m()\u001b[0m\n\u001b[0;32m      1\u001b[0m \u001b[38;5;28mprint\u001b[39m(\u001b[38;5;28mtype\u001b[39m(\u001b[38;5;28;01mTrue\u001b[39;00m))\n\u001b[1;32m----> 2\u001b[0m \u001b[38;5;28mprint\u001b[39m(\u001b[38;5;28mtype\u001b[39m(\u001b[43mfalse\u001b[49m))\n",
      "\u001b[1;31mNameError\u001b[0m: name 'false' is not defined"
     ]
    }
   ],
   "source": [
    "print(type(True))\n",
    "print(type(false)) #only captial F and T are acceptable"
   ]
  },
  {
   "cell_type": "code",
   "execution_count": 2,
   "id": "48422ff2",
   "metadata": {},
   "outputs": [
    {
     "name": "stdout",
     "output_type": "stream",
     "text": [
      "5\n"
     ]
    }
   ],
   "source": [
    "a = ['python',2,3,4,5]\n",
    "print(len(a))"
   ]
  },
  {
   "cell_type": "code",
   "execution_count": 6,
   "id": "eeec255c",
   "metadata": {},
   "outputs": [
    {
     "name": "stdout",
     "output_type": "stream",
     "text": [
      "[2, 3, 4, 6, 9, 8, 7, 6]\n",
      "[3]\n",
      "[[]]\n"
     ]
    }
   ],
   "source": [
    "a = [2,3,4,6]\n",
    "b = [9,8,7,6]\n",
    "print(a+b)\n",
    "print(a[1:2])\n",
    "print([b[0:0]])"
   ]
  },
  {
   "cell_type": "code",
   "execution_count": 13,
   "id": "f88a92aa",
   "metadata": {},
   "outputs": [
    {
     "name": "stdout",
     "output_type": "stream",
     "text": [
      "3\n"
     ]
    }
   ],
   "source": [
    "list = [1,2,3,45]\n",
    "n = list.index(45)\n",
    "print(n)"
   ]
  },
  {
   "cell_type": "code",
   "execution_count": 14,
   "id": "5546846c",
   "metadata": {},
   "outputs": [
    {
     "name": "stdout",
     "output_type": "stream",
     "text": [
      "[1, 2, 3, 45]\n"
     ]
    }
   ],
   "source": [
    "list = [1,2,3,45]\n",
    "n = list.copy()\n",
    "print(n)"
   ]
  },
  {
   "cell_type": "code",
   "execution_count": 15,
   "id": "8c9865dc",
   "metadata": {},
   "outputs": [
    {
     "name": "stdout",
     "output_type": "stream",
     "text": [
      "[4, 3, 2, 1]\n"
     ]
    }
   ],
   "source": [
    "list = [1,2,3,4]\n",
    "list.reverse()\n",
    "print(list)\n"
   ]
  },
  {
   "cell_type": "code",
   "execution_count": 16,
   "id": "9cf28dab",
   "metadata": {},
   "outputs": [
    {
     "name": "stdout",
     "output_type": "stream",
     "text": [
      "3\n"
     ]
    }
   ],
   "source": [
    "list= [1,2,3,1,2,3,1,2,3]\n",
    "print(list.count(2))"
   ]
  },
  {
   "cell_type": "code",
   "execution_count": 18,
   "id": "e41f7765",
   "metadata": {},
   "outputs": [
    {
     "name": "stdout",
     "output_type": "stream",
     "text": [
      "[4, 6, 8, 9, 22, 444]\n"
     ]
    }
   ],
   "source": [
    "list = [4,6,22,8,9,444]\n",
    "list.sort()\n",
    "print(list)"
   ]
  },
  {
   "cell_type": "code",
   "execution_count": 24,
   "id": "85f1e25b",
   "metadata": {},
   "outputs": [
    {
     "data": {
      "text/plain": [
       "2425590432448"
      ]
     },
     "execution_count": 24,
     "metadata": {},
     "output_type": "execute_result"
    }
   ],
   "source": [
    "list = [4,6,22,8,9,444]\n",
    "id(list)\n"
   ]
  },
  {
   "cell_type": "code",
   "execution_count": 20,
   "id": "764ed5fe",
   "metadata": {},
   "outputs": [
    {
     "data": {
      "text/plain": [
       "2425590436672"
      ]
     },
     "execution_count": 20,
     "metadata": {},
     "output_type": "execute_result"
    }
   ],
   "source": [
    "list = [4,6,22,8,9,444,4,5,6]\n",
    "id(list)\n"
   ]
  },
  {
   "cell_type": "code",
   "execution_count": 25,
   "id": "b75dfba0",
   "metadata": {},
   "outputs": [
    {
     "name": "stdout",
     "output_type": "stream",
     "text": [
      "The sum of 22 and 44 is 66\n"
     ]
    }
   ],
   "source": [
    "a=22\n",
    "b=44\n",
    "c=a+b\n",
    "print(\"The sum of {} and {} is {}\".format(a,b,c))"
   ]
  },
  {
   "cell_type": "code",
   "execution_count": 3,
   "id": "9ec6db04",
   "metadata": {},
   "outputs": [
    {
     "name": "stdout",
     "output_type": "stream",
     "text": [
      "odd\n"
     ]
    }
   ],
   "source": [
    "a = 23\n",
    "if a%2==0:\n",
    "  print(\"Even num\")\n",
    "else:\n",
    "  print(\"odd\")"
   ]
  },
  {
   "cell_type": "code",
   "execution_count": 17,
   "id": "7d3c879f",
   "metadata": {},
   "outputs": [
    {
     "name": "stdout",
     "output_type": "stream",
     "text": [
      "Enter a 22\n",
      "enter b22\n",
      "a is equalto b\n"
     ]
    }
   ],
   "source": [
    "a=int(input(\"Enter a \"))\n",
    "b=int(input(\"enter b\"))\n",
    "if a>b:\n",
    "    print(\"a is greater\")\n",
    "elif a==b:\n",
    "    print(\"a is equalto b\")\n",
    "else:\n",
    "    print(\"B is greater than a\")"
   ]
  },
  {
   "cell_type": "code",
   "execution_count": 15,
   "id": "ad1b7315",
   "metadata": {},
   "outputs": [
    {
     "name": "stdout",
     "output_type": "stream",
     "text": [
      "Enter a number0\n",
      "zero\n"
     ]
    }
   ],
   "source": [
    "x = float(input(\"Enter a number\"))\n",
    "if x>=0:\n",
    "    if x==0:\n",
    "        print(\"zero\")\n",
    "    else:\n",
    "        print(\"Positive\")\n",
    "else:\n",
    "    print(\"Neg\")"
   ]
  },
  {
   "cell_type": "code",
   "execution_count": 5,
   "id": "c98eda03",
   "metadata": {},
   "outputs": [
    {
     "name": "stdout",
     "output_type": "stream",
     "text": [
      "2\n",
      "3\n",
      "4\n",
      "5\n",
      "6\n",
      "7\n",
      "8\n",
      "9\n"
     ]
    }
   ],
   "source": [
    "d = [2,3,4,5,6,7,8,9]\n",
    "for i in d:\n",
    "   print(i)"
   ]
  },
  {
   "cell_type": "code",
   "execution_count": 8,
   "id": "08f8a42c",
   "metadata": {},
   "outputs": [
    {
     "name": "stdout",
     "output_type": "stream",
     "text": [
      "b\n",
      "a\n",
      "n\n",
      "a\n",
      "n\n",
      "a\n",
      "s\n"
     ]
    }
   ],
   "source": [
    "for x in \"bananas\":\n",
    "  print(x)"
   ]
  },
  {
   "cell_type": "code",
   "execution_count": 12,
   "id": "fc09415a",
   "metadata": {},
   "outputs": [
    {
     "name": "stdout",
     "output_type": "stream",
     "text": [
      "1\n",
      "2\n",
      "3\n",
      "4\n",
      "5\n"
     ]
    }
   ],
   "source": [
    "i=1\n",
    "while i<6:\n",
    "    print(i)\n",
    "    i=i+1"
   ]
  },
  {
   "cell_type": "code",
   "execution_count": 6,
   "id": "4d57892d",
   "metadata": {},
   "outputs": [
    {
     "name": "stdout",
     "output_type": "stream",
     "text": [
      "1\n",
      "2\n",
      "3\n"
     ]
    }
   ],
   "source": [
    "i=1\n",
    "while i<6:\n",
    "    print(i)\n",
    "    if(i==3):\n",
    "      break\n",
    "    i=i+1\n",
    "    "
   ]
  },
  {
   "cell_type": "code",
   "execution_count": 22,
   "id": "c0a8cb94",
   "metadata": {},
   "outputs": [
    {
     "name": "stdout",
     "output_type": "stream",
     "text": [
      "c o m p u t c o m p u t   p o g a m m i n g "
     ]
    }
   ],
   "source": [
    "#break,continue,pass\n",
    "s = \"computer programming\"\n",
    "for letter in s:\n",
    "    if letter=='e' or letter=='r':\n",
    "     break\n",
    "    print(letter,end=\" \")\n",
    "for letter in s:\n",
    "    if letter=='e' or letter=='r':\n",
    "     continue\n",
    "    print(letter,end=\" \")\n",
    "    "
   ]
  },
  {
   "cell_type": "code",
   "execution_count": 10,
   "id": "34b98f16",
   "metadata": {},
   "outputs": [
    {
     "name": "stdout",
     "output_type": "stream",
     "text": [
      "hello\n",
      "9\n"
     ]
    }
   ],
   "source": [
    "#function\n",
    "def greet():\n",
    "   print(\"hello\")\n",
    "def add (x,y):\n",
    "    c=x+y\n",
    "    print(c)\n",
    "greet()\n",
    "add(5,4)"
   ]
  },
  {
   "cell_type": "code",
   "execution_count": 12,
   "id": "9675807b",
   "metadata": {},
   "outputs": [
    {
     "name": "stdout",
     "output_type": "stream",
     "text": [
      "Even\n",
      "Odd\n"
     ]
    }
   ],
   "source": [
    "def evenOdd(x):\n",
    " if x%2==0:\n",
    "  print(\"Even\")\n",
    " else:\n",
    "  print(\"Odd\")\n",
    "evenOdd(4)\n",
    "evenOdd(5)\n",
    "\n",
    " "
   ]
  },
  {
   "cell_type": "code",
   "execution_count": 21,
   "id": "20d81fb6",
   "metadata": {},
   "outputs": [
    {
     "name": "stdout",
     "output_type": "stream",
     "text": [
      "10\n",
      "50\n"
     ]
    }
   ],
   "source": [
    "#default arguments\n",
    "def myfunc(x,y=50):\n",
    " print(x)\n",
    " print(y)\n",
    "myfunc(10)"
   ]
  },
  {
   "cell_type": "code",
   "execution_count": 23,
   "id": "45133459",
   "metadata": {},
   "outputs": [
    {
     "name": "stdout",
     "output_type": "stream",
     "text": [
      "Hello\n",
      "Welcome\n",
      "to\n",
      "Jupyter\n"
     ]
    }
   ],
   "source": [
    "def myFun(*argv): \n",
    "    for i in argv: \n",
    "        print (i)\n",
    "    \n",
    "myFun('Hello', 'Welcome', 'to', 'Jupyter') \n"
   ]
  },
  {
   "cell_type": "code",
   "execution_count": 60,
   "id": "fd248f58",
   "metadata": {},
   "outputs": [
    {
     "ename": "NameError",
     "evalue": "name 'i' is not defined",
     "output_type": "error",
     "traceback": [
      "\u001b[1;31m---------------------------------------------------------------------------\u001b[0m",
      "\u001b[1;31mNameError\u001b[0m                                 Traceback (most recent call last)",
      "Input \u001b[1;32mIn [60]\u001b[0m, in \u001b[0;36m<cell line: 1>\u001b[1;34m()\u001b[0m\n\u001b[1;32m----> 1\u001b[0m \u001b[43mi\u001b[49m\u001b[38;5;241m<\u001b[39m\u001b[38;5;241m=\u001b[39m\u001b[38;5;241m10\u001b[39m\n\u001b[0;32m      2\u001b[0m \u001b[38;5;28;01mfor\u001b[39;00m x \u001b[38;5;129;01min\u001b[39;00m i:\n\u001b[0;32m      3\u001b[0m     \u001b[38;5;28mprint\u001b[39m(x, end\u001b[38;5;241m=\u001b[39m\u001b[38;5;124m\"\u001b[39m\u001b[38;5;124m \u001b[39m\u001b[38;5;124m\"\u001b[39m)\n",
      "\u001b[1;31mNameError\u001b[0m: name 'i' is not defined"
     ]
    }
   ],
   "source": [
    "i<=10\n",
    "for x in i:\n",
    "    print(x, end=\" \")\n",
    "    i+=1\n",
    "    "
   ]
  },
  {
   "cell_type": "code",
   "execution_count": 37,
   "id": "2fd13aaa",
   "metadata": {},
   "outputs": [
    {
     "name": "stdout",
     "output_type": "stream",
     "text": [
      "first == Geeks\n",
      "mid == for\n",
      "last == Geeks\n"
     ]
    }
   ],
   "source": [
    "def myFun(arg1, **kwargs): \n",
    "    for key, value in kwargs.items():\n",
    "        print (\"%s == %s\" %(key, value))\n",
    "  \n",
    "# Driver code\n",
    "myFun(\"Hi\", first ='Geeks', mid ='for', last='Geeks')    "
   ]
  },
  {
   "cell_type": "code",
   "execution_count": 3,
   "id": "0cd6ff06",
   "metadata": {},
   "outputs": [
    {
     "name": "stdout",
     "output_type": "stream",
     "text": [
      "15\n"
     ]
    }
   ],
   "source": [
    "x=lambda a: a+10\n",
    "print(x(5))"
   ]
  },
  {
   "cell_type": "code",
   "execution_count": 4,
   "id": "f0de6a6a",
   "metadata": {},
   "outputs": [
    {
     "name": "stdout",
     "output_type": "stream",
     "text": [
      "27\n"
     ]
    }
   ],
   "source": [
    "cube = lambda a: a*a*a\n",
    "print(cube(3))"
   ]
  },
  {
   "cell_type": "code",
   "execution_count": 6,
   "id": "30617826",
   "metadata": {},
   "outputs": [
    {
     "name": "stdout",
     "output_type": "stream",
     "text": [
      "[2, 4, 6, 8, 10, 12]\n"
     ]
    }
   ],
   "source": [
    "my_list= [1,2,3,4,5,6]\n",
    "new_list=list(map(lambda a: a*2, my_list))\n",
    "print(new_list)"
   ]
  },
  {
   "cell_type": "code",
   "execution_count": 9,
   "id": "1501b293",
   "metadata": {},
   "outputs": [
    {
     "name": "stdout",
     "output_type": "stream",
     "text": [
      "[4, 16, 36]\n"
     ]
    }
   ],
   "source": [
    "list = [1,2,3,4,5,6,7]\n",
    "mylist = [x*x for x in list if x%2==0]\n",
    "print(mylist)"
   ]
  },
  {
   "cell_type": "code",
   "execution_count": 11,
   "id": "0e9858ef",
   "metadata": {},
   "outputs": [
    {
     "name": "stdout",
     "output_type": "stream",
     "text": [
      "27\n"
     ]
    }
   ],
   "source": [
    "cube = lambda a:a*a*a\n",
    "print(cube(3))"
   ]
  },
  {
   "cell_type": "code",
   "execution_count": 5,
   "id": "e6e6f078",
   "metadata": {},
   "outputs": [
    {
     "name": "stdout",
     "output_type": "stream",
     "text": [
      "1\n",
      "2\n",
      "3\n"
     ]
    }
   ],
   "source": [
    "def myfun(food):\n",
    " for x in food:\n",
    "  print(x)\n",
    "fruits = [1,2,3]\n",
    "myfun(fruits)"
   ]
  },
  {
   "cell_type": "code",
   "execution_count": 8,
   "id": "c2f6e9c6",
   "metadata": {},
   "outputs": [
    {
     "name": "stdout",
     "output_type": "stream",
     "text": [
      "1\n",
      "2\n",
      "3\n",
      "4\n"
     ]
    }
   ],
   "source": [
    "def won(food):\n",
    " for x in food:\n",
    "  print(x)\n",
    "fruits = [1,2,3,4]\n",
    "won(fruits)"
   ]
  },
  {
   "cell_type": "code",
   "execution_count": 12,
   "id": "c6d2e38c",
   "metadata": {},
   "outputs": [
    {
     "name": "stdout",
     "output_type": "stream",
     "text": [
      "9 1\n"
     ]
    }
   ],
   "source": [
    "def addsub(x,y):\n",
    " c=x+y\n",
    " d=x-y\n",
    " return c,d\n",
    "res1,res2 = addsub(5,4)\n",
    "print(res1,res2)"
   ]
  },
  {
   "cell_type": "code",
   "execution_count": 22,
   "id": "82df240d",
   "metadata": {},
   "outputs": [
    {
     "name": "stdout",
     "output_type": "stream",
     "text": [
      "6\n"
     ]
    }
   ],
   "source": [
    "def add(*params):\n",
    " sum=0\n",
    " for x in params:\n",
    "    sum=sum+x\n",
    " print(sum)\n",
    "mylist=[1,2,3]\n",
    "add(*mylist)"
   ]
  },
  {
   "cell_type": "code",
   "execution_count": null,
   "id": "d32102cb",
   "metadata": {},
   "outputs": [],
   "source": [
    "\n"
   ]
  },
  {
   "cell_type": "code",
   "execution_count": 55,
   "id": "098a8853",
   "metadata": {},
   "outputs": [
    {
     "name": "stdout",
     "output_type": "stream",
     "text": [
      "Number of even numbers : 4\n",
      "Number of odd numbers : 5\n"
     ]
    }
   ],
   "source": [
    "\n",
    "numbers = [1, 2, 3, 4, 5, 6, 7, 8, 9] # Declaring the list\n",
    "count_odd = 0\n",
    "count_even = 0\n",
    "for x in numbers:\n",
    "        if  x % 2==0:\n",
    "    \t     count_even+=1\n",
    "        else:\n",
    "    \t     count_odd+=1\n",
    "print(\"Number of even numbers :\",count_even)\n",
    "print(\"Number of odd numbers :\",count_odd)\n"
   ]
  },
  {
   "cell_type": "code",
   "execution_count": 64,
   "id": "591138e0",
   "metadata": {},
   "outputs": [
    {
     "name": "stdout",
     "output_type": "stream",
     "text": [
      "[1, 2, 3, 1, 2, 3]\n"
     ]
    }
   ],
   "source": [
    "l=[1,2,3]\n",
    "l.extend(l)\n",
    "print(l)\n",
    "\n"
   ]
  },
  {
   "cell_type": "code",
   "execution_count": 65,
   "id": "cca7f354",
   "metadata": {},
   "outputs": [
    {
     "name": "stdout",
     "output_type": "stream",
     "text": [
      "pythonprogramming\n"
     ]
    }
   ],
   "source": [
    "str1 = \"python\" + \"programming\"\n",
    "print(str1)"
   ]
  },
  {
   "cell_type": "code",
   "execution_count": 66,
   "id": "02444a27",
   "metadata": {},
   "outputs": [
    {
     "name": "stdout",
     "output_type": "stream",
     "text": [
      "pythonpythonpython\n"
     ]
    }
   ],
   "source": [
    "str2 = \"python\" * 3\n",
    "print(str2)"
   ]
  },
  {
   "cell_type": "code",
   "execution_count": 74,
   "id": "ba2d7939",
   "metadata": {},
   "outputs": [
    {
     "name": "stdout",
     "output_type": "stream",
     "text": [
      "['nancydhivya', 'belongs', 'to', 'AI', 'Department']\n"
     ]
    }
   ],
   "source": [
    "a = \"nancydhivya belongs to AI Department\"\n",
    "print(a.split())"
   ]
  },
  {
   "cell_type": "code",
   "execution_count": 75,
   "id": "2994d8c8",
   "metadata": {},
   "outputs": [
    {
     "data": {
      "text/plain": [
       "str"
      ]
     },
     "execution_count": 75,
     "metadata": {},
     "output_type": "execute_result"
    }
   ],
   "source": [
    "a = 'nancy'\n",
    "type(a)"
   ]
  },
  {
   "cell_type": "code",
   "execution_count": null,
   "id": "c1172595",
   "metadata": {},
   "outputs": [],
   "source": []
  },
  {
   "cell_type": "code",
   "execution_count": null,
   "id": "89eda81c",
   "metadata": {},
   "outputs": [],
   "source": []
  }
 ],
 "metadata": {
  "kernelspec": {
   "display_name": "Python 3 (ipykernel)",
   "language": "python",
   "name": "python3"
  },
  "language_info": {
   "codemirror_mode": {
    "name": "ipython",
    "version": 3
   },
   "file_extension": ".py",
   "mimetype": "text/x-python",
   "name": "python",
   "nbconvert_exporter": "python",
   "pygments_lexer": "ipython3",
   "version": "3.9.12"
  }
 },
 "nbformat": 4,
 "nbformat_minor": 5
}
